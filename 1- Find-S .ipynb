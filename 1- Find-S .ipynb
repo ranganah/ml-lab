{
 "cells": [
  {
   "cell_type": "code",
   "execution_count": null,
   "metadata": {
    "collapsed": true
   },
   "outputs": [],
   "source": [
    "import pandas as pd    #Pandas must be installed.Pandas used for reading data from .csv file. \n",
    "data = pd.read_csv('enjoysport.csv')#ensure csv file exists in the same folder as the python code.\n",
    "columnLength= data.shape[1] #obtain number of columns\n",
    "rowLength=data.shape[0] #obtain number of rows\n",
    "print (data) #print the table\n",
    "h=['0','0','0','0','0','0'] #nitialize  h to the most specific hypothesis in the Hypotheses Space H\n",
    "hp=[] #nitialize list hp i.e list of hypotheses for positive training examples\n",
    "hn=[] #nitialize list hn i.e list of hypotheses for all negative training examples\n",
    "\n"
   ]
  }
 ],
 "metadata": {
  "kernelspec": {
   "display_name": "Python 3",
   "language": "python",
   "name": "python3"
  },
  "language_info": {
   "codemirror_mode": {
    "name": "ipython",
    "version": 3
   },
   "file_extension": ".py",
   "mimetype": "text/x-python",
   "name": "python",
   "nbconvert_exporter": "python",
   "pygments_lexer": "ipython3",
   "version": "3.6.3"
  }
 },
 "nbformat": 4,
 "nbformat_minor": 2
}
