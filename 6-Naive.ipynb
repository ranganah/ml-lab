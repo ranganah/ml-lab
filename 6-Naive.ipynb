{
 "cells": [
  {
   "cell_type": "code",
   "execution_count": 5,
   "metadata": {},
   "outputs": [
    {
     "name": "stdout",
     "output_type": "stream",
     "text": [
      "The age of patients are : [ 30.  30.  30.  31.  31.]\n",
      "The year of operation are: [ 64.  62.  65.  59.  65.]\n",
      "Number of positive axillary nodes detected are: [ 1.  3.  0.  2.  4.]\n",
      "The labes (survived in 5 years[1-yes,2-no]) [ 1.  1.  1.  1.  1.]\n",
      "\n",
      "\n",
      "Accuracy of the classifer is: 0.748366013072\n",
      "\n",
      "\n",
      "             precision    recall  f1-score   support\n",
      "\n",
      "        1.0       0.77      0.94      0.85       225\n",
      "        2.0       0.57      0.21      0.31        81\n",
      "\n",
      "avg / total       0.71      0.75      0.70       306\n",
      "\n"
     ]
    }
   ],
   "source": [
    "import numpy as np\n",
    "#from matplotlib import pyplot as plt\n",
    "from sklearn.naive_bayes import GaussianNB\n",
    "from sklearn.metrics import accuracy_score\n",
    "from sklearn import metrics\n",
    "\n",
    "'''\n",
    "The dataset contains cases  from a study that was \n",
    "conducted between 1958 and 1970 at the University \n",
    "of Chicago's Billings Hospital on the survival of \n",
    "patients who had undergone surgery for cancer\n",
    "\n",
    "1. Age of patient at time of operation (numerical) \n",
    "2. Patient's year of operation (year - 1900, numerical) \n",
    "3. Number of positive axillary nodes detected (numerical) \n",
    "4. Survival status (class attribute) \n",
    "-- 1 = the patient survived 5 years or longer \n",
    "-- 2 = the patient died within 5 year \n",
    "'''\n",
    "\n",
    "c1,c2,c3,c4= np.loadtxt('data.csv',unpack=True,delimiter = ',')\n",
    "\n",
    "print(\"The age of patients are :\",c1[0:5])\n",
    "print(\"The year of operation are:\",c2[0:5])\n",
    "print(\"Number of positive axillary nodes detected are:\",c3[0:5])\n",
    "print(\"The labes (survived in 5 years[1-yes,2-no])\",c4[0:5])\n",
    "\n",
    "x=np.column_stack((c1,c3))\n",
    "y=c4\n",
    "\n",
    "clf = GaussianNB()\n",
    "\n",
    "clf.fit(x,y)\n",
    "predictions=clf.predict(x)\n",
    "\n",
    "print(\"\\n\")\n",
    "print('Accuracy of the classifer is:',accuracy_score(y,predictions))\n",
    "print(\"\\n\")\n",
    "print(metrics.classification_report(y,predictions))"
   ]
  },
  {
   "cell_type": "code",
   "execution_count": null,
   "metadata": {
    "collapsed": true
   },
   "outputs": [],
   "source": []
  },
  {
   "cell_type": "code",
   "execution_count": null,
   "metadata": {
    "collapsed": true
   },
   "outputs": [],
   "source": []
  }
 ],
 "metadata": {
  "kernelspec": {
   "display_name": "Python 3",
   "language": "python",
   "name": "python3"
  },
  "language_info": {
   "codemirror_mode": {
    "name": "ipython",
    "version": 3
   },
   "file_extension": ".py",
   "mimetype": "text/x-python",
   "name": "python",
   "nbconvert_exporter": "python",
   "pygments_lexer": "ipython3",
   "version": "3.6.3"
  }
 },
 "nbformat": 4,
 "nbformat_minor": 2
}
