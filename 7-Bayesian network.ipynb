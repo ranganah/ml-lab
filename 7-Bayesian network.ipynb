{
 "cells": [
  {
   "cell_type": "code",
   "execution_count": 2,
   "metadata": {},
   "outputs": [
    {
     "name": "stdout",
     "output_type": "stream",
     "text": [
      "exercise\t\tFalse\n",
      "smokes\t\tTrue\n",
      "BP\t\t{\n",
      "    \"class\" :\"Distribution\",\n",
      "    \"dtype\" :\"str\",\n",
      "    \"name\" :\"DiscreteDistribution\",\n",
      "    \"parameters\" :[\n",
      "        {\n",
      "            \"True\" :0.9499999999999995,\n",
      "            \"False\" :0.05000000000000043\n",
      "        }\n",
      "    ],\n",
      "    \"frozen\" :false\n",
      "}\n",
      "chol\t\t{\n",
      "    \"class\" :\"Distribution\",\n",
      "    \"dtype\" :\"str\",\n",
      "    \"name\" :\"DiscreteDistribution\",\n",
      "    \"parameters\" :[\n",
      "        {\n",
      "            \"True\" :0.7999999999999999,\n",
      "            \"False\" :0.20000000000000015\n",
      "        }\n",
      "    ],\n",
      "    \"frozen\" :false\n",
      "}\n",
      "attack\t\t{\n",
      "    \"class\" :\"Distribution\",\n",
      "    \"dtype\" :\"str\",\n",
      "    \"name\" :\"DiscreteDistribution\",\n",
      "    \"parameters\" :[\n",
      "        {\n",
      "            \"True\" :0.7149999999999997,\n",
      "            \"False\" :0.2850000000000003\n",
      "        }\n",
      "    ],\n",
      "    \"frozen\" :false\n",
      "}\n"
     ]
    }
   ],
   "source": [
    "\n",
    "\n",
    "from pomegranate import*\n",
    "exercise=DiscreteDistribution({ 'True':0.4, 'False':0.6 })\n",
    "smokes = DiscreteDistribution({ 'True':0.15, 'False':0.85 })\n",
    "\n",
    "BP=ConditionalProbabilityTable(\n",
    "[[ 'True', 'True', 'True', 0.45],\n",
    "['True', 'True', 'False', 0.55],\n",
    "['True', 'False', 'True', 0.05],\n",
    "['True', 'False', 'False', 0.95],\n",
    "['False', 'True', 'True', 0.95],\n",
    "['False', 'True', 'False', 0.05],\n",
    "['False', 'False', 'True', 0.55],\n",
    "['False', 'False', 'False', 0.45 ]], [exercise,smokes])\n",
    "\n",
    "chol = ConditionalProbabilityTable(\n",
    "[[ 'True', 'True', 0.8],\n",
    "['True', 'False',0.2],\n",
    "[ 'False', 'True', 0.4],\n",
    "[ 'False', 'False', 0.6]], [ smokes])\n",
    "\n",
    "attack = ConditionalProbabilityTable(\n",
    "[[ 'True', 'True', 0.75],\n",
    "['True', 'False',0.25],\n",
    "[ 'False', 'True',0.05],\n",
    "[ 'False', 'False', 0.95]], [ BP])\n",
    "\n",
    "s0 = State(exercise, name='exercise')\n",
    "s1 = State(smokes, name=\"smokes\")\n",
    "s2 = State(BP, name=\"BP\")\n",
    "s3 = State( chol, name=\"chol\" )\n",
    "s4 = State( attack, name=\"attack\" )\n",
    "\n",
    "\n",
    "network = BayesianNetwork(\"heart Disease\")\n",
    "network.add_nodes(s0,s1,s2,s3, s4)\n",
    "\n",
    "network.add_edge( s0, s2 )\n",
    "network.add_edge( s1, s2 )\n",
    "network.add_edge( s1, s3 )\n",
    "network.add_edge( s2, s4 )\n",
    "\n",
    "\n",
    "network.bake()\n",
    "#network.plot()\n",
    "\n",
    "observations = { 'exercise' : 'False', 'smokes' : 'True' }\n",
    "beliefs = map( str, network.predict_proba( observations ) )\n",
    "\n",
    "\n",
    "print (\"\\n\".join( \"{}\\t\\t{}\".format( state.name, belief ) for state, belief in zip( network.states, beliefs ) ))"
   ]
  },
  {
   "cell_type": "code",
   "execution_count": null,
   "metadata": {
    "collapsed": true
   },
   "outputs": [],
   "source": []
  }
 ],
 "metadata": {
  "kernelspec": {
   "display_name": "Python 3",
   "language": "python",
   "name": "python3"
  },
  "language_info": {
   "codemirror_mode": {
    "name": "ipython",
    "version": 3
   },
   "file_extension": ".py",
   "mimetype": "text/x-python",
   "name": "python",
   "nbconvert_exporter": "python",
   "pygments_lexer": "ipython3",
   "version": "3.6.3"
  }
 },
 "nbformat": 4,
 "nbformat_minor": 2
}
